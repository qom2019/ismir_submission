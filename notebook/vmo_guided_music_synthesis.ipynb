{
 "cells": [
  {
   "cell_type": "code",
   "execution_count": null,
   "metadata": {
    "collapsed": false,
    "deletable": true,
    "editable": true
   },
   "outputs": [],
   "source": [
    "%load_ext autoreload\n",
    "%autoreload 2"
   ]
  },
  {
   "cell_type": "code",
   "execution_count": null,
   "metadata": {
    "collapsed": false,
    "deletable": true,
    "editable": true
   },
   "outputs": [],
   "source": [
    "import numpy as np\n",
    "import vmo.analysis as van\n",
    "import vmo.generate as vge\n",
    "import matplotlib.pyplot as plt\n",
    "import sklearn.preprocessing as pre\n",
    "import librosa, vmo\n",
    "import IPython.display\n",
    "%matplotlib inline"
   ]
  },
  {
   "cell_type": "code",
   "execution_count": null,
   "metadata": {
    "collapsed": false,
    "deletable": true,
    "editable": true
   },
   "outputs": [],
   "source": [
    "# Setup\n",
    "target_file = '../../Downloads/vmo_test/magenta_0412_0710.wav'\n",
    "query_file = './audioTestFiles/Jazz_C2.wav'\n",
    "\n",
    "fft_size = 8192*4\n",
    "hop_size = fft_size/2"
   ]
  },
  {
   "cell_type": "code",
   "execution_count": null,
   "metadata": {
    "collapsed": false,
    "deletable": true,
    "editable": true
   },
   "outputs": [],
   "source": [
    "# Read target wave file \n",
    "y, sr = librosa.load(target_file, sr = 44100)\n",
    "C = librosa.feature.chroma_stft(y=y, sr=sr, n_fft=fft_size, hop_length=hop_size)\n",
    "#C = librosa.feature.chromagram(y=y, sr=sr, n_fft=fft_size, hop_length=hop_size, octwidth = None)\n",
    "feature = np.log(C+np.finfo(float).eps)\n",
    "feature = pre.normalize(feature)"
   ]
  },
  {
   "cell_type": "code",
   "execution_count": null,
   "metadata": {
    "collapsed": false,
    "deletable": true,
    "editable": true
   },
   "outputs": [],
   "source": [
    "IPython.display.Audio(data=y, rate=sr)"
   ]
  },
  {
   "cell_type": "code",
   "execution_count": null,
   "metadata": {
    "collapsed": false,
    "deletable": true,
    "editable": true
   },
   "outputs": [],
   "source": [
    "plt.figure(figsize = (12,2))\n",
    "plt.imshow(feature, aspect = 'auto', origin = 'lower', interpolation = 'nearest', cmap ='Greys')\n",
    "plt.title('Chromagram (target)', fontsize = 18)\n",
    "plt.xlabel('Frame', fontsize = 14)\n",
    "plt.ylabel('Chroma Bin', fontsize = 14)\n",
    "plt.tight_layout()"
   ]
  },
  {
   "cell_type": "code",
   "execution_count": null,
   "metadata": {
    "collapsed": false,
    "deletable": true,
    "editable": true
   },
   "outputs": [],
   "source": [
    "# Build target oracle\n",
    "chroma_frames = feature.transpose()\n",
    "r = (0.0, 1.01, 0.01) \n",
    "ideal_t = vmo.find_threshold(chroma_frames, r = r, flag = 'a', dim=chroma_frames.shape[1])\n",
    "oracle_t = vmo.build_oracle(chroma_frames, flag = 'a', \n",
    "                            threshold = ideal_t[0][1], \n",
    "                            feature = 'chroma', dim=chroma_frames.shape[1])"
   ]
  },
  {
   "cell_type": "code",
   "execution_count": null,
   "metadata": {
    "collapsed": false,
    "deletable": true,
    "editable": true
   },
   "outputs": [],
   "source": [
    "x = np.array([i[1] for i in ideal_t[1]])\n",
    "y = [i[0] for i in ideal_t[1]]\n",
    "\n",
    "fig = plt.figure(figsize = (8,2))\n",
    "plt.plot(x, y, linewidth = 2)\n",
    "plt.title('IR vs. Threshold Value (Nottingham Original)', fontsize = 16)\n",
    "plt.grid(b = 'on')\n",
    "plt.xlabel('Threshold')\n",
    "plt.ylabel('IR')\n",
    "plt.xlim(0,0.25)\n",
    "plt.tight_layout()\n",
    "\n",
    "print np.average(y)\n",
    "print np.max(y)"
   ]
  },
  {
   "cell_type": "code",
   "execution_count": null,
   "metadata": {
    "collapsed": false,
    "deletable": true,
    "editable": true
   },
   "outputs": [],
   "source": [
    "min_len = 1\n",
    "pattern = van.find_repeated_patterns(oracle_t, lower = min_len)\n",
    "pattern_mat = np.zeros((len(pattern), oracle_t.n_states-1))\n",
    "for i,p in enumerate(pattern):\n",
    "    length = p[1]\n",
    "    for s in p[0]:\n",
    "        pattern_mat[i][s-length:s-1] = 1\n",
    "\n",
    "plt.figure(figsize = (8,2))\n",
    "plt.imshow(pattern_mat, interpolation = 'nearest', aspect = 'auto', cmap = 'Greys')\n",
    "# plt.title('Patterns Found with VMO',fontsize=12)\n",
    "plt.title('Patterns Found in Generated Melodies (Attention RNN)',fontsize=16)\n",
    "\n",
    "# plt.yticks(np.arange(pattern_mat.shape[0]))\n",
    "plt.ylabel('Pattern Index')\n",
    "plt.xlabel('Frame Numbers',fontsize=12)\n",
    "plt.xlim(0,170)\n",
    "plt.tight_layout()"
   ]
  },
  {
   "cell_type": "code",
   "execution_count": null,
   "metadata": {
    "collapsed": false,
    "deletable": true,
    "editable": true
   },
   "outputs": [],
   "source": [
    "# Read query wave file\n",
    "y_q, sr = librosa.load(query_file, sr = 44100)\n",
    "C_q = librosa.feature.chroma_stft(y=y_q, sr=sr, n_fft=fft_size, hop_length=hop_size)\n",
    "feature_q = np.log(C_q+np.finfo(float).eps)\n",
    "feature_q = pre.normalize(feature_q)"
   ]
  },
  {
   "cell_type": "code",
   "execution_count": null,
   "metadata": {
    "collapsed": false,
    "deletable": true,
    "editable": true
   },
   "outputs": [],
   "source": [
    "IPython.display.Audio(data=y_q, rate=sr)"
   ]
  },
  {
   "cell_type": "code",
   "execution_count": null,
   "metadata": {
    "collapsed": false,
    "deletable": true,
    "editable": true
   },
   "outputs": [],
   "source": [
    "plt.figure(figsize = (12,2))\n",
    "plt.imshow(feature_q, aspect = 'auto', origin = 'lower', interpolation = 'nearest', cmap ='Greys')\n",
    "plt.title('Chromagram (query)', fontsize = 18)\n",
    "plt.xlabel('Frame', fontsize = 14)\n",
    "plt.ylabel('Chroma Bin', fontsize = 14)\n",
    "plt.tight_layout()"
   ]
  },
  {
   "cell_type": "code",
   "execution_count": null,
   "metadata": {
    "collapsed": false,
    "deletable": true,
    "editable": true
   },
   "outputs": [],
   "source": [
    "# Query-matching and re-synthesis \n",
    "path, cost, i_hat = van.query(oracle_t, feature_q.T, trn_type = 1)\n",
    "x, _w, sr = vge.audio_synthesis(target_file, 'vmo_synthesis_test.wav', path[i_hat], \n",
    "                                analysis_sr=sr, buffer_size=fft_size, hop=hop_size)"
   ]
  },
  {
   "cell_type": "code",
   "execution_count": null,
   "metadata": {
    "collapsed": false,
    "deletable": true,
    "editable": true
   },
   "outputs": [],
   "source": [
    "IPython.display.Audio(data=x, rate=sr)"
   ]
  },
  {
   "cell_type": "code",
   "execution_count": null,
   "metadata": {
    "collapsed": false,
    "deletable": true,
    "editable": true
   },
   "outputs": [],
   "source": [
    "print x[:y_q.shape[0]].shape\n",
    "print y_q.shape"
   ]
  },
  {
   "cell_type": "code",
   "execution_count": null,
   "metadata": {
    "collapsed": false,
    "deletable": true,
    "editable": true
   },
   "outputs": [],
   "source": [
    "audio_mixed = np.vstack((x[:y_q.shape[0]]/float(np.max(np.abs(x))), y_q))\n",
    "print audio_mixed.shape"
   ]
  },
  {
   "cell_type": "code",
   "execution_count": null,
   "metadata": {
    "collapsed": false,
    "deletable": true,
    "editable": true
   },
   "outputs": [],
   "source": [
    "IPython.display.Audio(data=audio_mixed, rate=sr)"
   ]
  },
  {
   "cell_type": "code",
   "execution_count": null,
   "metadata": {
    "collapsed": false,
    "deletable": true,
    "editable": true
   },
   "outputs": [],
   "source": [
    "print path[i_hat]"
   ]
  },
  {
   "cell_type": "code",
   "execution_count": null,
   "metadata": {
    "collapsed": false,
    "deletable": true,
    "editable": true
   },
   "outputs": [],
   "source": []
  },
  {
   "cell_type": "code",
   "execution_count": null,
   "metadata": {
    "collapsed": true
   },
   "outputs": [],
   "source": []
  }
 ],
 "metadata": {
  "kernelspec": {
   "display_name": "Python 2",
   "language": "python",
   "name": "python2"
  },
  "language_info": {
   "codemirror_mode": {
    "name": "ipython",
    "version": 2
   },
   "file_extension": ".py",
   "mimetype": "text/x-python",
   "name": "python",
   "nbconvert_exporter": "python",
   "pygments_lexer": "ipython2",
   "version": "2.7.13"
  }
 },
 "nbformat": 4,
 "nbformat_minor": 0
}
